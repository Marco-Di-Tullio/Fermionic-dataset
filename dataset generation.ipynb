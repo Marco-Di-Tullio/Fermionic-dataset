{
 "cells": [
  {
   "cell_type": "code",
   "execution_count": 1,
   "metadata": {},
   "outputs": [],
   "source": [
    "using Fermionic\n",
    "using SparseArrays\n",
    "using LinearAlgebra"
   ]
  },
  {
   "cell_type": "markdown",
   "metadata": {},
   "source": [
    "# Fermionic Dataset"
   ]
  },
  {
   "cell_type": "markdown",
   "metadata": {},
   "source": [
    "### Funciones complementarias\n",
    "filter_lvl recoge solo los niveles que se corresponden con niveles totalmente ocupados (los no nulos en el fundamental).\n",
    "map_to_2n lleva estos niveles a la base de 2^n del sistema de n spines, donde acá n va a coincidir con el numero de niveles (en un sistema de d=8, tengo 4 niveles degenerados. Eso mapea a un sistema de 4 spines)"
   ]
  },
  {
   "cell_type": "code",
   "execution_count": 84,
   "metadata": {},
   "outputs": [],
   "source": [
    "function map_to_2n(estado, index, d)\n",
    "    l = size(estado)[1]\n",
    "    #lo puedo hacer sparse si prefieren, es mas lindo pero quizas no le gusta a initialize del qiskit\n",
    "    estado2n = zeros(l,2^d)\n",
    "    index2 = index[1:size(estado)[2]]\n",
    "    for j in 1:l\n",
    "        for (i,v) in enumerate(index2)\n",
    "            estado2n[j,Int(v+1)]=estado[j,i]\n",
    "        end\n",
    "    end\n",
    "    return estado2n    \n",
    "end\n",
    "\n",
    "function filter_lvl(b)\n",
    "    bin, d = size(b)\n",
    "    f = [sum([b[t,k]*b[t,k+1] for k in 1:2:d]) for t in 1:bin]\n",
    "    return f\n",
    "end\n",
    ";"
   ]
  },
  {
   "cell_type": "markdown",
   "metadata": {},
   "source": [
    "### Simulación\n",
    "Simulamos el Hamiltoniano exacto para cada acoplamiento y lo guardamos junto a las etiquetas de superconductividad definidas por BCS."
   ]
  },
  {
   "cell_type": "code",
   "execution_count": 90,
   "metadata": {},
   "outputs": [],
   "source": [
    "d = 8 #Es un sistema de 4 niveles con degeneración 2\n",
    "nume = Int(d/2)\n",
    "\n",
    "e0 = 1.0\n",
    "gmin = 0.0\n",
    "gmax = 5.0\n",
    "step = 0.01\n",
    "\n",
    "b, index = basis_m(d,nume)\n",
    "\n",
    "epsilon = [e0*(i-d/4-1/2) for i in 1:d/2]\n",
    "gc = 1/sum(1 ./abs.(2*epsilon))\n",
    "epsilon = sort([epsilon; epsilon])\n",
    "h0 = sum([epsilon[i]*(cdc(b,index,i,i) + cdc(b,index,i+1,i+1)) for i in 1:2:(Int(d)-1)])\n",
    "hi = sum([sum([if i==j spzeros(binomial(d,nume), binomial(d,nume)) else -(cdc(b,index,j,i+1)*cdc(b,index,j+1,i)) end\n",
    "                    for i in 1:2:(Int(d)-1)]) for j in 1:2:(Int(d)-1)])\n",
    "\n",
    "g = zeros(0)\n",
    "#si quieren lo puedo hacer sparse poniendo spzeros aca abajo\n",
    "estado = zeros(Int((gmax-gmin)/step+1),binomial(d,nume))\n",
    "labels = zeros(0)\n",
    "count = 1\n",
    "for k in gmin:step:gmax\n",
    "    append!(g,round(k, digits=10))\n",
    "    h = h0 - (round(k, digits=10))*hi\n",
    "    fundamental = eigvecs(Matrix(h))[:,1];\n",
    "    fundamental = fundamental/sqrt(fundamental'*fundamental)\n",
    "    fundamental = [round(fundamental[i], digits=15) for i in 1:binomial(d,nume)]\n",
    "    estado[count,:] = fundamental\n",
    "    if k>=gc\n",
    "        lab=1\n",
    "    else\n",
    "        lab=0\n",
    "    end\n",
    "    append!(labels,lab)\n",
    "    count = count+1\n",
    "end"
   ]
  },
  {
   "cell_type": "markdown",
   "metadata": {},
   "source": [
    "El gc (acoplamiento crítico de bcs) fue chequeado con mathematica"
   ]
  },
  {
   "cell_type": "code",
   "execution_count": 91,
   "metadata": {},
   "outputs": [
    {
     "data": {
      "text/plain": [
       "0.375"
      ]
     },
     "execution_count": 91,
     "metadata": {},
     "output_type": "execute_result"
    }
   ],
   "source": [
    "gc"
   ]
  },
  {
   "cell_type": "markdown",
   "metadata": {},
   "source": [
    "### Traducción a qiskit y guardado\n",
    "Hacemos la conversión a la base de qiskit. Es decir base de 2^n con n el num de niveles, que serán los n qubits del input en qiskit."
   ]
  },
  {
   "cell_type": "code",
   "execution_count": 92,
   "metadata": {},
   "outputs": [
    {
     "data": {
      "text/plain": [
       "501×16 Array{Float64,2}:\n",
       " 0.0  0.0  0.0  0.0          0.0  0.0         …  0.0  1.0       0.0  0.0  0.0\n",
       " 0.0  0.0  0.0  1.46663e-5   0.0  0.00167501     0.0  0.99998   0.0  0.0  0.0\n",
       " 0.0  0.0  0.0  5.89933e-5   0.0  0.00336677     0.0  0.999918  0.0  0.0  0.0\n",
       " 0.0  0.0  0.0  0.000133465  0.0  0.00507533     0.0  0.999813  0.0  0.0  0.0\n",
       " 0.0  0.0  0.0  0.000238553  0.0  0.00680073     0.0  0.999664  0.0  0.0  0.0\n",
       " 0.0  0.0  0.0  0.000374715  0.0  0.00854301  …  0.0  0.999469  0.0  0.0  0.0\n",
       " 0.0  0.0  0.0  0.000542392  0.0  0.0103022      0.0  0.999227  0.0  0.0  0.0\n",
       " 0.0  0.0  0.0  0.000742009  0.0  0.0120782      0.0  0.998937  0.0  0.0  0.0\n",
       " 0.0  0.0  0.0  0.000973971  0.0  0.0138711      0.0  0.998598  0.0  0.0  0.0\n",
       " 0.0  0.0  0.0  0.00123866   0.0  0.0156808      0.0  0.998207  0.0  0.0  0.0\n",
       " 0.0  0.0  0.0  0.00153645   0.0  0.0175072   …  0.0  0.997765  0.0  0.0  0.0\n",
       " 0.0  0.0  0.0  0.00186767   0.0  0.0193503      0.0  0.99727   0.0  0.0  0.0\n",
       " 0.0  0.0  0.0  0.00223263   0.0  0.0212098      0.0  0.99672   0.0  0.0  0.0\n",
       " ⋮                                ⋮           ⋱                           ⋮\n",
       " 0.0  0.0  0.0  0.328594     0.0  0.362362       0.0  0.493935  0.0  0.0  0.0\n",
       " 0.0  0.0  0.0  0.328748     0.0  0.362461    …  0.0  0.493758  0.0  0.0  0.0\n",
       " 0.0  0.0  0.0  0.328901     0.0  0.36256        0.0  0.493581  0.0  0.0  0.0\n",
       " 0.0  0.0  0.0  0.329053     0.0  0.362659       0.0  0.493405  0.0  0.0  0.0\n",
       " 0.0  0.0  0.0  0.329205     0.0  0.362757       0.0  0.49323   0.0  0.0  0.0\n",
       " 0.0  0.0  0.0  0.329356     0.0  0.362855       0.0  0.493055  0.0  0.0  0.0\n",
       " 0.0  0.0  0.0  0.329506     0.0  0.362952    …  0.0  0.492881  0.0  0.0  0.0\n",
       " 0.0  0.0  0.0  0.329656     0.0  0.363049       0.0  0.492708  0.0  0.0  0.0\n",
       " 0.0  0.0  0.0  0.329805     0.0  0.363146       0.0  0.492535  0.0  0.0  0.0\n",
       " 0.0  0.0  0.0  0.329954     0.0  0.363242       0.0  0.492364  0.0  0.0  0.0\n",
       " 0.0  0.0  0.0  0.330103     0.0  0.363338       0.0  0.492193  0.0  0.0  0.0\n",
       " 0.0  0.0  0.0  0.33025      0.0  0.363433    …  0.0  0.492022  0.0  0.0  0.0"
      ]
     },
     "execution_count": 92,
     "metadata": {},
     "output_type": "execute_result"
    }
   ],
   "source": [
    "a = filter_lvl(b)\n",
    "posiciones = findall(x->x==2, a)\n",
    "e = estado[:,posiciones]\n",
    "b2,i2=basis_m(Int(d/2),Int(nume/2))\n",
    "\n",
    "estado2n=map_to_2n(e, i2, Int(d/2))"
   ]
  },
  {
   "cell_type": "markdown",
   "metadata": {},
   "source": [
    "Agreguemosle acoplamientos y labeles a los datos"
   ]
  },
  {
   "cell_type": "code",
   "execution_count": 93,
   "metadata": {},
   "outputs": [
    {
     "data": {
      "text/plain": [
       "501×18 Array{Float64,2}:\n",
       " 0.0   0.0  0.0  0.0  0.0          0.0  …  0.0  1.0       0.0  0.0  0.0  0.0\n",
       " 0.01  0.0  0.0  0.0  1.46663e-5   0.0     0.0  0.99998   0.0  0.0  0.0  0.0\n",
       " 0.02  0.0  0.0  0.0  5.89933e-5   0.0     0.0  0.999918  0.0  0.0  0.0  0.0\n",
       " 0.03  0.0  0.0  0.0  0.000133465  0.0     0.0  0.999813  0.0  0.0  0.0  0.0\n",
       " 0.04  0.0  0.0  0.0  0.000238553  0.0     0.0  0.999664  0.0  0.0  0.0  0.0\n",
       " 0.05  0.0  0.0  0.0  0.000374715  0.0  …  0.0  0.999469  0.0  0.0  0.0  0.0\n",
       " 0.06  0.0  0.0  0.0  0.000542392  0.0     0.0  0.999227  0.0  0.0  0.0  0.0\n",
       " 0.07  0.0  0.0  0.0  0.000742009  0.0     0.0  0.998937  0.0  0.0  0.0  0.0\n",
       " 0.08  0.0  0.0  0.0  0.000973971  0.0     0.0  0.998598  0.0  0.0  0.0  0.0\n",
       " 0.09  0.0  0.0  0.0  0.00123866   0.0     0.0  0.998207  0.0  0.0  0.0  0.0\n",
       " 0.1   0.0  0.0  0.0  0.00153645   0.0  …  0.0  0.997765  0.0  0.0  0.0  0.0\n",
       " 0.11  0.0  0.0  0.0  0.00186767   0.0     0.0  0.99727   0.0  0.0  0.0  0.0\n",
       " 0.12  0.0  0.0  0.0  0.00223263   0.0     0.0  0.99672   0.0  0.0  0.0  0.0\n",
       " ⋮                                 ⋮    ⋱                      ⋮         \n",
       " 4.89  0.0  0.0  0.0  0.328594     0.0     0.0  0.493935  0.0  0.0  0.0  1.0\n",
       " 4.9   0.0  0.0  0.0  0.328748     0.0  …  0.0  0.493758  0.0  0.0  0.0  1.0\n",
       " 4.91  0.0  0.0  0.0  0.328901     0.0     0.0  0.493581  0.0  0.0  0.0  1.0\n",
       " 4.92  0.0  0.0  0.0  0.329053     0.0     0.0  0.493405  0.0  0.0  0.0  1.0\n",
       " 4.93  0.0  0.0  0.0  0.329205     0.0     0.0  0.49323   0.0  0.0  0.0  1.0\n",
       " 4.94  0.0  0.0  0.0  0.329356     0.0     0.0  0.493055  0.0  0.0  0.0  1.0\n",
       " 4.95  0.0  0.0  0.0  0.329506     0.0  …  0.0  0.492881  0.0  0.0  0.0  1.0\n",
       " 4.96  0.0  0.0  0.0  0.329656     0.0     0.0  0.492708  0.0  0.0  0.0  1.0\n",
       " 4.97  0.0  0.0  0.0  0.329805     0.0     0.0  0.492535  0.0  0.0  0.0  1.0\n",
       " 4.98  0.0  0.0  0.0  0.329954     0.0     0.0  0.492364  0.0  0.0  0.0  1.0\n",
       " 4.99  0.0  0.0  0.0  0.330103     0.0     0.0  0.492193  0.0  0.0  0.0  1.0\n",
       " 5.0   0.0  0.0  0.0  0.33025      0.0  …  0.0  0.492022  0.0  0.0  0.0  1.0"
      ]
     },
     "execution_count": 93,
     "metadata": {},
     "output_type": "execute_result"
    }
   ],
   "source": [
    "estado_l = hcat(g,estado2n,labels)"
   ]
  },
  {
   "cell_type": "markdown",
   "metadata": {},
   "source": [
    "Guardemoslos en formato csv:"
   ]
  },
  {
   "cell_type": "code",
   "execution_count": 101,
   "metadata": {},
   "outputs": [],
   "source": [
    "header2n=String[]\n",
    "push!(header2n,\"g\")\n",
    "for i in 0:(2^Int(d/2)-1)\n",
    "    binary_base = bitstring(i)[65-Int(d/2):64]\n",
    "    push!(header2n,binary_base)\n",
    "end\n",
    "push!(header2n,\"label\")\n",
    "\n",
    "CSV.write(\"estados_super2.csv\",  DataFrame(estado_l), header=header2n);"
   ]
  },
  {
   "cell_type": "markdown",
   "metadata": {},
   "source": [
    "### Chequeos\n",
    "Esto de abajo son chequeas con métodos alternativos usando simetrías. Está dando igual."
   ]
  },
  {
   "cell_type": "code",
   "execution_count": 13,
   "metadata": {},
   "outputs": [
    {
     "data": {
      "text/plain": [
       "6-element Array{Float64,1}:\n",
       " -0.3302502483797297\n",
       " -0.36343295217043653\n",
       " -0.4004693453872221\n",
       " -0.40046934538722206\n",
       " -0.442734717468786\n",
       " -0.4920221940928091"
      ]
     },
     "execution_count": 13,
     "metadata": {},
     "output_type": "execute_result"
    }
   ],
   "source": [
    "# Con simetrias\n",
    "\n",
    "d=4\n",
    "nume = Int(d/2)\n",
    "\n",
    "o = Op(d)\n",
    "\n",
    "e0 = 1.0\n",
    "epsilon = [2*e0*(i-d/2-1/2) for i in 1:d]\n",
    "g = 5.0\n",
    "h0 = spzeros(binomial(d,nume),binomial(d,nume))\n",
    "bam,_ = basis_m(d,nume)\n",
    "\n",
    "for i in 1:binomial(d,nume)\n",
    "    h0[i,i] = epsilon'*bam[i,:]\n",
    "end\n",
    "\n",
    "hi = spzeros(binomial(d,nume),binomial(d,nume))\n",
    "for i in 1:binomial(d,nume)\n",
    "    for j in 1:binomial(d,nume)\n",
    "        if length(findall(in(indx(bam[i,:])), indx(bam[j,:]))) == nume - 1\n",
    "            hi[i,j] = g\n",
    "        end\n",
    "    end\n",
    "end\n",
    "\n",
    "h = h0 - hi;\n",
    "fundamental = eigvecs(Matrix(h))[:,1]\n"
   ]
  },
  {
   "cell_type": "code",
   "execution_count": 95,
   "metadata": {},
   "outputs": [],
   "source": [
    "# Con Fermionic \n",
    "\n",
    "\n",
    "d = 8 #this will be a system of 2 levels\n",
    "nume = Int(d/2)\n",
    "\n",
    "e0 = 1.0\n",
    "gmin = 5.0\n",
    "gmax = 5.0\n",
    "step = 0.01\n",
    "\n",
    "b, index = basis_m(d,nume)\n",
    "\n",
    "epsilon = [e0*(i-d/4-1/2) for i in 1:d/2]\n",
    "gc = 1/sum(1 ./abs.(2*epsilon))\n",
    "epsilon = sort([epsilon; epsilon])\n",
    "h0 = sum([epsilon[i]*(cdc(b,index,i,i) + cdc(b,index,i+1,i+1)) for i in 1:2:(Int(d)-1)])\n",
    "hi = sum([sum([if i==j spzeros(binomial(d,nume), binomial(d,nume)) else -(cdc(b,index,j,i+1)*cdc(b,index,j+1,i)) end\n",
    "                    for i in 1:2:(Int(d)-1)]) for j in 1:2:(Int(d)-1)])\n",
    "\n",
    "g = zeros(0)\n",
    "#si quieren lo puedo hacer sparse poniendo spzeros aca abajo\n",
    "estado = zeros(Int((gmax-gmin)/step+1),binomial(d,nume))\n",
    "labels = zeros(0)\n",
    "count = 1\n",
    "for k in gmin:step:gmax\n",
    "    append!(g,round(k, digits=10))\n",
    "    h = h0 - (round(k, digits=10))*hi\n",
    "    fundamental = eigvecs(Matrix(h))[:,1];\n",
    "    fundamental = fundamental/sqrt(fundamental'*fundamental)\n",
    "    fundamental = [round(fundamental[i], digits=15) for i in 1:binomial(d,nume)]\n",
    "    estado[count,:] = fundamental\n",
    "    if k>=gc\n",
    "        lab=1\n",
    "    else\n",
    "        lab=0\n",
    "    end\n",
    "    append!(labels,lab)\n",
    "    count = count+1\n",
    "end"
   ]
  },
  {
   "cell_type": "code",
   "execution_count": 97,
   "metadata": {},
   "outputs": [
    {
     "data": {
      "text/plain": [
       "1×6 Array{Float64,2}:\n",
       " 0.33025  0.363433  0.400469  0.400469  0.442735  0.492022"
      ]
     },
     "execution_count": 97,
     "metadata": {},
     "output_type": "execute_result"
    }
   ],
   "source": [
    "a = filter_lvl(b)\n",
    "posiciones = findall(x->x==2, a)\n",
    "e = estado[:,posiciones]\n",
    "b2,i2=basis_m(Int(d/2),Int(nume/2))\n",
    "\n",
    "e"
   ]
  },
  {
   "cell_type": "markdown",
   "metadata": {},
   "source": [
    "Da igual a menos de una fase global (no relevante)"
   ]
  }
 ],
 "metadata": {
  "kernelspec": {
   "display_name": "Julia 1.4.0",
   "language": "julia",
   "name": "julia-1.4"
  },
  "language_info": {
   "file_extension": ".jl",
   "mimetype": "application/julia",
   "name": "julia",
   "version": "1.4.0"
  }
 },
 "nbformat": 4,
 "nbformat_minor": 4
}
