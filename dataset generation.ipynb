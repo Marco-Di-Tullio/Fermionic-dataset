{
 "cells": [
  {
   "cell_type": "code",
   "execution_count": 1,
   "metadata": {},
   "outputs": [],
   "source": [
    "using Fermionic\n",
    "using SparseArrays\n",
    "using LinearAlgebra\n",
    "using DataFrames\n",
    "using CSV"
   ]
  },
  {
   "cell_type": "markdown",
   "metadata": {},
   "source": [
    "# Fermionic Dataset"
   ]
  },
  {
   "cell_type": "markdown",
   "metadata": {},
   "source": [
    "### Complementary functions\n",
    "\n",
    "filter_lvl picks only states corresponding to fully occupied levels from the full basis (which are the only non zero elements in the fundamental state). Remember we are simulating our system in the basis with fixed particle number, which scales as $\\binom{d}{N}$ with $d$ the dimension and $N$ the particle number, instead of the full $2^d$ basis.\n",
    "\n",
    "map_to_2n takes these levels to the full $2^n$ basis of n spines, in order to input the initialize function in qiskit. Here n is the number of levels (in a system with $d=8$, $n=4$ degenerate levels and mapps to a 4 qubits system)."
   ]
  },
  {
   "cell_type": "code",
   "execution_count": 2,
   "metadata": {},
   "outputs": [],
   "source": [
    "function map_to_2n(estado, index, d)\n",
    "    l = size(estado)[1]\n",
    "    #lo puedo hacer sparse si prefieren, es mas lindo pero quizas no le gusta a initialize del qiskit\n",
    "    estado2n = zeros(l,2^d)\n",
    "    index2 = index[1:size(estado)[2]]\n",
    "    for j in 1:l\n",
    "        for (i,v) in enumerate(index2)\n",
    "            estado2n[j,Int(v+1)]=estado[j,i]\n",
    "        end\n",
    "    end\n",
    "    return estado2n    \n",
    "end\n",
    "\n",
    "function filter_lvl(b)\n",
    "    bin, d = size(b)\n",
    "    f = [sum([b[t,k]*b[t,k+1] for k in 1:2:d]) for t in 1:bin]\n",
    "    return f\n",
    "end\n",
    ";"
   ]
  },
  {
   "cell_type": "markdown",
   "metadata": {},
   "source": [
    "### Simulation\n",
    "We will use the Fermionic.jl package in order to exactly simulate the Hamiltonian for each coupling. We will then save each state together with the coupling strength and a binary label, which divides superconductor states form non superconductor states. As a criterior for the phase transition, we chose BCS gap activation, but there are many other options."
   ]
  },
  {
   "cell_type": "code",
   "execution_count": 3,
   "metadata": {},
   "outputs": [],
   "source": [
    "d = 8 # This will be a system with 4 two-fold degenerated levels\n",
    "nume = Int(d/2) # We consider half-occupation. That is, we have d/2 number of fermions\n",
    "\n",
    "e0 = 1.0\n",
    "gmin = 0.0\n",
    "gmax = 5.0\n",
    "step = 0.01\n",
    "\n",
    "b, index = basis_m(d,nume)\n",
    "\n",
    "epsilon = [e0*(i-d/4-1/2) for i in 1:d/2]\n",
    "gc = 1/sum(1 ./abs.(2*epsilon)) # This is the critical coupling from BCS which determines the phase transition\n",
    "epsilon = sort([epsilon; epsilon])\n",
    "\n",
    "h0 = sum([epsilon[i]*(cdc(b,index,i,i) + cdc(b,index,i+1,i+1)) for i in 1:2:(Int(d)-1)]) # Diagonal term of the hamiltonian\n",
    "hi = sum([sum([if i==j spzeros(binomial(d,nume), binomial(d,nume)) else -(cdc(b,index,j,i+1)*cdc(b,index,j+1,i)) end\n",
    "                    for i in 1:2:(Int(d)-1)]) for j in 1:2:(Int(d)-1)]) # Two body interaction \n",
    "\n",
    "g = zeros(0)\n",
    "estado = zeros(Int((gmax-gmin)/step+1),binomial(d,nume)) # This can be done as sparse too, changing zeros for spzeros\n",
    "labels = zeros(0)\n",
    "\n",
    "count = 1\n",
    "for k in gmin:step:gmax # Iteration over coupling strenghts\n",
    "    append!(g,round(k, digits=10))\n",
    "    h = h0 - (round(k, digits=10))*hi # We create the Hamiltonian\n",
    "    fundamental = eigvecs(Matrix(h))[:,1] # We take the first eigenvector\n",
    "    fundamental = fundamental/sqrt(fundamental'*fundamental) # Normalization\n",
    "    fundamental = [round(fundamental[i], digits=15) for i in 1:binomial(d,nume)] # We round to the specified precision\n",
    "    estado[count,:] = fundamental\n",
    "    if k>=gc # The superconductor label\n",
    "        lab=1\n",
    "    else\n",
    "        lab=0\n",
    "    end\n",
    "    append!(labels,lab)\n",
    "    count = count+1\n",
    "end"
   ]
  },
  {
   "cell_type": "code",
   "execution_count": 4,
   "metadata": {},
   "outputs": [
    {
     "data": {
      "text/plain": [
       "0.375"
      ]
     },
     "execution_count": 4,
     "metadata": {},
     "output_type": "execute_result"
    }
   ],
   "source": [
    "gc"
   ]
  },
  {
   "cell_type": "markdown",
   "metadata": {},
   "source": [
    "### Traduction to Qiskit and saving\n",
    "\n",
    "We finally convert this state to the qiskit $2^n$ basis with $n$ the number of levels. In order to do that, we use the previously defined functions."
   ]
  },
  {
   "cell_type": "code",
   "execution_count": 5,
   "metadata": {},
   "outputs": [
    {
     "data": {
      "text/plain": [
       "501×16 Array{Float64,2}:\n",
       " 0.0  0.0  0.0  0.0          0.0  0.0         …  0.0  1.0       0.0  0.0  0.0\n",
       " 0.0  0.0  0.0  1.46663e-5   0.0  0.00167501     0.0  0.99998   0.0  0.0  0.0\n",
       " 0.0  0.0  0.0  5.89933e-5   0.0  0.00336677     0.0  0.999918  0.0  0.0  0.0\n",
       " 0.0  0.0  0.0  0.000133465  0.0  0.00507533     0.0  0.999813  0.0  0.0  0.0\n",
       " 0.0  0.0  0.0  0.000238553  0.0  0.00680073     0.0  0.999664  0.0  0.0  0.0\n",
       " 0.0  0.0  0.0  0.000374715  0.0  0.00854301  …  0.0  0.999469  0.0  0.0  0.0\n",
       " 0.0  0.0  0.0  0.000542392  0.0  0.0103022      0.0  0.999227  0.0  0.0  0.0\n",
       " 0.0  0.0  0.0  0.000742009  0.0  0.0120782      0.0  0.998937  0.0  0.0  0.0\n",
       " 0.0  0.0  0.0  0.000973971  0.0  0.0138711      0.0  0.998598  0.0  0.0  0.0\n",
       " 0.0  0.0  0.0  0.00123866   0.0  0.0156808      0.0  0.998207  0.0  0.0  0.0\n",
       " 0.0  0.0  0.0  0.00153645   0.0  0.0175072   …  0.0  0.997765  0.0  0.0  0.0\n",
       " 0.0  0.0  0.0  0.00186767   0.0  0.0193503      0.0  0.99727   0.0  0.0  0.0\n",
       " 0.0  0.0  0.0  0.00223263   0.0  0.0212098      0.0  0.99672   0.0  0.0  0.0\n",
       " ⋮                                ⋮           ⋱                           ⋮\n",
       " 0.0  0.0  0.0  0.328594     0.0  0.362362       0.0  0.493935  0.0  0.0  0.0\n",
       " 0.0  0.0  0.0  0.328748     0.0  0.362461    …  0.0  0.493758  0.0  0.0  0.0\n",
       " 0.0  0.0  0.0  0.328901     0.0  0.36256        0.0  0.493581  0.0  0.0  0.0\n",
       " 0.0  0.0  0.0  0.329053     0.0  0.362659       0.0  0.493405  0.0  0.0  0.0\n",
       " 0.0  0.0  0.0  0.329205     0.0  0.362757       0.0  0.49323   0.0  0.0  0.0\n",
       " 0.0  0.0  0.0  0.329356     0.0  0.362855       0.0  0.493055  0.0  0.0  0.0\n",
       " 0.0  0.0  0.0  0.329506     0.0  0.362952    …  0.0  0.492881  0.0  0.0  0.0\n",
       " 0.0  0.0  0.0  0.329656     0.0  0.363049       0.0  0.492708  0.0  0.0  0.0\n",
       " 0.0  0.0  0.0  0.329805     0.0  0.363146       0.0  0.492535  0.0  0.0  0.0\n",
       " 0.0  0.0  0.0  0.329954     0.0  0.363242       0.0  0.492364  0.0  0.0  0.0\n",
       " 0.0  0.0  0.0  0.330103     0.0  0.363338       0.0  0.492193  0.0  0.0  0.0\n",
       " 0.0  0.0  0.0  0.33025      0.0  0.363433    …  0.0  0.492022  0.0  0.0  0.0"
      ]
     },
     "execution_count": 5,
     "metadata": {},
     "output_type": "execute_result"
    }
   ],
   "source": [
    "a = filter_lvl(b)\n",
    "posiciones = findall(x->x==2, a)\n",
    "e = estado[:,posiciones]\n",
    "b2,i2=basis_m(Int(d/2),Int(nume/2))\n",
    "\n",
    "estado2n=map_to_2n(e, i2, Int(d/2))"
   ]
  },
  {
   "cell_type": "markdown",
   "metadata": {},
   "source": [
    "Let's add coupling in the first column and labels in the last"
   ]
  },
  {
   "cell_type": "code",
   "execution_count": 6,
   "metadata": {},
   "outputs": [
    {
     "data": {
      "text/plain": [
       "501×18 Array{Float64,2}:\n",
       " 0.0   0.0  0.0  0.0  0.0          0.0  …  0.0  1.0       0.0  0.0  0.0  0.0\n",
       " 0.01  0.0  0.0  0.0  1.46663e-5   0.0     0.0  0.99998   0.0  0.0  0.0  0.0\n",
       " 0.02  0.0  0.0  0.0  5.89933e-5   0.0     0.0  0.999918  0.0  0.0  0.0  0.0\n",
       " 0.03  0.0  0.0  0.0  0.000133465  0.0     0.0  0.999813  0.0  0.0  0.0  0.0\n",
       " 0.04  0.0  0.0  0.0  0.000238553  0.0     0.0  0.999664  0.0  0.0  0.0  0.0\n",
       " 0.05  0.0  0.0  0.0  0.000374715  0.0  …  0.0  0.999469  0.0  0.0  0.0  0.0\n",
       " 0.06  0.0  0.0  0.0  0.000542392  0.0     0.0  0.999227  0.0  0.0  0.0  0.0\n",
       " 0.07  0.0  0.0  0.0  0.000742009  0.0     0.0  0.998937  0.0  0.0  0.0  0.0\n",
       " 0.08  0.0  0.0  0.0  0.000973971  0.0     0.0  0.998598  0.0  0.0  0.0  0.0\n",
       " 0.09  0.0  0.0  0.0  0.00123866   0.0     0.0  0.998207  0.0  0.0  0.0  0.0\n",
       " 0.1   0.0  0.0  0.0  0.00153645   0.0  …  0.0  0.997765  0.0  0.0  0.0  0.0\n",
       " 0.11  0.0  0.0  0.0  0.00186767   0.0     0.0  0.99727   0.0  0.0  0.0  0.0\n",
       " 0.12  0.0  0.0  0.0  0.00223263   0.0     0.0  0.99672   0.0  0.0  0.0  0.0\n",
       " ⋮                                 ⋮    ⋱                      ⋮         \n",
       " 4.89  0.0  0.0  0.0  0.328594     0.0     0.0  0.493935  0.0  0.0  0.0  1.0\n",
       " 4.9   0.0  0.0  0.0  0.328748     0.0  …  0.0  0.493758  0.0  0.0  0.0  1.0\n",
       " 4.91  0.0  0.0  0.0  0.328901     0.0     0.0  0.493581  0.0  0.0  0.0  1.0\n",
       " 4.92  0.0  0.0  0.0  0.329053     0.0     0.0  0.493405  0.0  0.0  0.0  1.0\n",
       " 4.93  0.0  0.0  0.0  0.329205     0.0     0.0  0.49323   0.0  0.0  0.0  1.0\n",
       " 4.94  0.0  0.0  0.0  0.329356     0.0     0.0  0.493055  0.0  0.0  0.0  1.0\n",
       " 4.95  0.0  0.0  0.0  0.329506     0.0  …  0.0  0.492881  0.0  0.0  0.0  1.0\n",
       " 4.96  0.0  0.0  0.0  0.329656     0.0     0.0  0.492708  0.0  0.0  0.0  1.0\n",
       " 4.97  0.0  0.0  0.0  0.329805     0.0     0.0  0.492535  0.0  0.0  0.0  1.0\n",
       " 4.98  0.0  0.0  0.0  0.329954     0.0     0.0  0.492364  0.0  0.0  0.0  1.0\n",
       " 4.99  0.0  0.0  0.0  0.330103     0.0     0.0  0.492193  0.0  0.0  0.0  1.0\n",
       " 5.0   0.0  0.0  0.0  0.33025      0.0  …  0.0  0.492022  0.0  0.0  0.0  1.0"
      ]
     },
     "execution_count": 6,
     "metadata": {},
     "output_type": "execute_result"
    }
   ],
   "source": [
    "estado_l = hcat(g,estado2n,labels)"
   ]
  },
  {
   "cell_type": "markdown",
   "metadata": {},
   "source": [
    "Let's save it as a csv:"
   ]
  },
  {
   "cell_type": "code",
   "execution_count": 7,
   "metadata": {},
   "outputs": [],
   "source": [
    "header2n=String[]\n",
    "push!(header2n,\"g\")\n",
    "for i in 0:(2^Int(d/2)-1)\n",
    "    binary_base = bitstring(i)[65-Int(d/2):64]\n",
    "    push!(header2n,binary_base)\n",
    "end\n",
    "push!(header2n,\"label\")\n",
    "\n",
    "CSV.write(\"fermionic_dataset_4.csv\",  DataFrame(estado_l), header=header2n);"
   ]
  },
  {
   "cell_type": "markdown",
   "metadata": {},
   "source": [
    "### Higer dimensions (only for superconductors)"
   ]
  },
  {
   "cell_type": "markdown",
   "metadata": {},
   "source": [
    "Only for the superconducting system: We can exploit the symmetries of the problem to simulate higher dimensions in a more efficient way. Remember: this is not doable for general fermionic systems."
   ]
  },
  {
   "cell_type": "code",
   "execution_count": 12,
   "metadata": {},
   "outputs": [],
   "source": [
    "function indx(arr)\n",
    "    l = length(arr)\n",
    "    ind = spzeros(0)\n",
    "    for i=1:l\n",
    "        if arr[i] != 0\n",
    "            ind = sparse([ind; i])\n",
    "        end\n",
    "    end\n",
    "    return ind\n",
    "end\n",
    "\n",
    "function map_to_2n(estado, index, d)\n",
    "    l = size(estado)[1]\n",
    "    #lo puedo hacer sparse si prefieren, es mas lindo pero quizas no le gusta a initialize del qiskit\n",
    "    estado2n = zeros(l,2^d)\n",
    "    index2 = index[1:size(estado)[2]]\n",
    "    for j in 1:l\n",
    "        for (i,v) in enumerate(index2)\n",
    "            estado2n[j,Int(v+1)]=estado[j,i]\n",
    "        end\n",
    "    end\n",
    "    return estado2n    \n",
    "end\n",
    ";"
   ]
  },
  {
   "cell_type": "code",
   "execution_count": 13,
   "metadata": {},
   "outputs": [],
   "source": [
    "# With symmetries\n",
    "\n",
    "d=8 # d will be the number of levels now. So this is an 8 levels system.\n",
    "nume = Int(d/2)\n",
    "\n",
    "o = Op(d) # We use Fermionic for bulding the fermionic basis.\n",
    "\n",
    "e0 = 1.0\n",
    "epsilon = [2*e0*(i-d/2-1/2) for i in 1:d]\n",
    "gc = 1/sum(1 ./abs.(epsilon))\n",
    "h0 = spzeros(binomial(d,nume),binomial(d,nume))\n",
    "bam, index = basis_m(d,nume)\n",
    "\n",
    "for i in 1:binomial(d,nume)\n",
    "    h0[i,i] = epsilon'*bam[i,:]\n",
    "end\n",
    "\n",
    "hi = spzeros(binomial(d,nume),binomial(d,nume))\n",
    "for i in 1:binomial(d,nume)\n",
    "    for j in 1:binomial(d,nume)\n",
    "        if length(findall(in(indx(bam[i,:])), indx(bam[j,:]))) == nume - 1\n",
    "            hi[i,j] = 1\n",
    "        end\n",
    "    end\n",
    "end\n",
    "\n",
    "gmin = 0.0\n",
    "gmax = 5.0\n",
    "step = 0.01\n",
    "\n",
    "g = zeros(0)\n",
    "estado = zeros(Int((gmax-gmin)/step+1),binomial(d,nume)) # This can be done as sparse too, changing zeros for spzeros\n",
    "labels = zeros(0)\n",
    "\n",
    "count = 1\n",
    "for k in gmin:step:gmax \n",
    "    append!(g,round(k, digits=10))\n",
    "    h = h0 - k*hi\n",
    "    fundamental = eigvecs(Matrix(h))[:,1]\n",
    "    fundamental = fundamental/sqrt(fundamental'*fundamental) # Normalization\n",
    "    fundamental = [round(fundamental[i], digits=15) for i in 1:binomial(d,nume)] # We round to the specified precision\n",
    "    estado[count,:] = fundamental\n",
    "    if k>=gc # The superconductor label\n",
    "        lab=1\n",
    "    else\n",
    "        lab=0\n",
    "    end\n",
    "    append!(labels,lab)\n",
    "    count = count+1\n",
    "end\n",
    "estado2n=map_to_2n(estado, index, d)\n",
    "estado_l = hcat(g,estado2n,labels);"
   ]
  },
  {
   "cell_type": "code",
   "execution_count": 14,
   "metadata": {},
   "outputs": [],
   "source": [
    "header2n=String[]\n",
    "push!(header2n,\"g\")\n",
    "for i in 0:(2^Int(d)-1)\n",
    "    binary_base = bitstring(i)[65-Int(d):64]\n",
    "    push!(header2n,binary_base)\n",
    "end\n",
    "push!(header2n,\"label\")\n",
    "\n",
    "CSV.write(\"fermionic_dataset_8.csv\",  DataFrame(estado_l), header=header2n);"
   ]
  }
 ],
 "metadata": {
  "kernelspec": {
   "display_name": "Julia 1.4.0",
   "language": "julia",
   "name": "julia-1.4"
  },
  "language_info": {
   "file_extension": ".jl",
   "mimetype": "application/julia",
   "name": "julia",
   "version": "1.4.0"
  }
 },
 "nbformat": 4,
 "nbformat_minor": 4
}
