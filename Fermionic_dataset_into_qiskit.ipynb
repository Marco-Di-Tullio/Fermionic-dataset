{
  "nbformat": 4,
  "nbformat_minor": 0,
  "metadata": {
    "colab": {
      "name": "Fermionic dataset into qiskit.ipynb",
      "provenance": [],
      "collapsed_sections": [
        "oAR1ASQUG2Jf",
        "P_gugzm9E5AD",
        "2PvoFXmRCl7q"
      ]
    },
    "kernelspec": {
      "name": "python3",
      "display_name": "Python 3"
    },
    "language_info": {
      "name": "python"
    }
  },
  "cells": [
    {
      "cell_type": "code",
      "metadata": {
        "id": "T28GBN3-hYQt"
      },
      "source": [
        "%%capture\n",
        "import numpy as np\n",
        "!pip install qiskit\n",
        "from qiskit import QuantumCircuit, ClassicalRegister, QuantumRegister, assemble\n",
        "from qiskit import execute\n",
        "from qiskit import BasicAer as Aer\n",
        "from qiskit.tools.visualization import circuit_drawer, plot_histogram"
      ],
      "execution_count": null,
      "outputs": []
    },
    {
      "cell_type": "markdown",
      "metadata": {
        "id": "kysMNpDAAo5L"
      },
      "source": [
        "## Hamiltonian and mapping\n",
        "\n",
        "The following fermionic model describes the transition to a superconducting phase. We will consider a single particle space $\\mathcal{H}$ with $2\\Omega$ modes composed by $\\Omega$ orthogonal single particle states $k$ and the corresponding $\\Omega$ time-reversed states $\\bar{k}$ described by the following Hamiltonian:\n",
        "\n",
        "$H = \\sum_k \\varepsilon_k (c_k^\\dagger c_k + c_{\\bar{k}}^\\dagger c_{\\bar{k}}) - \\sum_{kk'} G_{k k'}c_{k'}^\\dagger c_{\\bar{k'}}^\\dagger c_{\\bar{k}} c_k$\n",
        "\n",
        "\n",
        "with $\\varepsilon_k$ the energy of the level $k$ and $\\bar{k}$. We will consider the half filled case, i.e. a fixed number of fermions $N=\\Omega$. We will look at the case of equally spaced spectrum $\\varepsilon_{k+1}-\\varepsilon_k = \\varepsilon\\;\\; \\forall k $ and $G_{kk'} = G\\geq 0 \\;\\; \\forall k, k'$\n",
        "\n",
        "En el estado fundamental, el estado no tiene pares rotos, es decir los modos $k$ y $\\bar{k}$ están simultaneamente ocupados. Esto permite realizar el mapeo  de ocupación de niveles a spines (en lugar de ocupación de modos a spines, que requiría el doble de spines). En este caso vamos a tomar $\\Omega=4$ y lo vamos a mapear a un sistema de 4 spines. Para entender el mapeo, a modo de ejemplo si tuviesemos 2 niveles, tendríamos que ir de  la base $\\{00,01,10,11\\}$ a la base $\\{\\downarrow \\downarrow ,\\downarrow \\uparrow,\\uparrow\\downarrow ,\\uparrow\\uparrow\\}$.  El estado $|\\psi\\rangle_f = \\frac{1}{\\sqrt{2}}(c_1^\\dagger + c_2^\\dagger)|0\\rangle = \\frac{1}{\\sqrt{2}}(|01\\rangle + |10\\rangle) \\rightarrow |\\psi\\rangle_s =\\frac{1}{\\sqrt{2}}(|\\downarrow \\uparrow \\rangle + |\\uparrow\\downarrow\\rangle ) $. Desde ya que el tener numero fijo de fermiones haría que solo algunos de estos estados se prendan. \n",
        "\n",
        "La fermionicidad se perdería en principio al fijar la base (necesario para mapear a índices de qubits), pero al mapear con ocupaciones de niveles estamos tomando la base privilegiada en fermiones (que diagonaliza el Hamiltoniano). Estamos fijando la base privilegiada y por ende no estamos perdiendo la fermionicidad. Si hubiesemos mapeado modos a spines independientemente de la base que diagonaliza el hamiltoniano, como se haría en Jordan Wigner convencional, hubiesemos perdido fermionicidad realmente."
      ]
    },
    {
      "cell_type": "markdown",
      "metadata": {
        "id": "oAR1ASQUG2Jf"
      },
      "source": [
        "## Dataset\n",
        "Let's download the dataset\n"
      ]
    },
    {
      "cell_type": "code",
      "metadata": {
        "id": "8mr_7Fm4KGvZ"
      },
      "source": [
        "import requests\n",
        "url = 'https://raw.githubusercontent.com/Marco-Di-Tullio/Fermionic-dataset/main/estados_super.csv'\n",
        "r = requests.get(url, allow_redirects=True)\n",
        "open('estados_super.csv', 'wb').write(r.content);\n"
      ],
      "execution_count": null,
      "outputs": []
    },
    {
      "cell_type": "markdown",
      "metadata": {
        "id": "CGmCPJVZKd5H"
      },
      "source": [
        "This is how it looks:"
      ]
    },
    {
      "cell_type": "code",
      "metadata": {
        "colab": {
          "base_uri": "https://localhost:8080/",
          "height": 224
        },
        "id": "zSYk85sqKMSF",
        "outputId": "823cb5ff-dfb6-464f-b934-fa3dc749b1e3"
      },
      "source": [
        "import pandas as pd\n",
        "df = pd.read_csv('estados_super.csv')\n",
        "df.head()"
      ],
      "execution_count": null,
      "outputs": [
        {
          "output_type": "execute_result",
          "data": {
            "text/html": [
              "<div>\n",
              "<style scoped>\n",
              "    .dataframe tbody tr th:only-of-type {\n",
              "        vertical-align: middle;\n",
              "    }\n",
              "\n",
              "    .dataframe tbody tr th {\n",
              "        vertical-align: top;\n",
              "    }\n",
              "\n",
              "    .dataframe thead th {\n",
              "        text-align: right;\n",
              "    }\n",
              "</style>\n",
              "<table border=\"1\" class=\"dataframe\">\n",
              "  <thead>\n",
              "    <tr style=\"text-align: right;\">\n",
              "      <th></th>\n",
              "      <th>g</th>\n",
              "      <th>0000</th>\n",
              "      <th>0001</th>\n",
              "      <th>0010</th>\n",
              "      <th>0011</th>\n",
              "      <th>0100</th>\n",
              "      <th>0101</th>\n",
              "      <th>0110</th>\n",
              "      <th>0111</th>\n",
              "      <th>1000</th>\n",
              "      <th>1001</th>\n",
              "      <th>1010</th>\n",
              "      <th>1011</th>\n",
              "      <th>1100</th>\n",
              "      <th>1101</th>\n",
              "      <th>1110</th>\n",
              "      <th>1111</th>\n",
              "      <th>label</th>\n",
              "    </tr>\n",
              "  </thead>\n",
              "  <tbody>\n",
              "    <tr>\n",
              "      <th>0</th>\n",
              "      <td>0.00</td>\n",
              "      <td>0.0</td>\n",
              "      <td>0.0</td>\n",
              "      <td>0.0</td>\n",
              "      <td>0.000000</td>\n",
              "      <td>0.0</td>\n",
              "      <td>0.000000</td>\n",
              "      <td>0.000000</td>\n",
              "      <td>0.0</td>\n",
              "      <td>0.0</td>\n",
              "      <td>0.000000</td>\n",
              "      <td>0.000000</td>\n",
              "      <td>0.0</td>\n",
              "      <td>1.000000</td>\n",
              "      <td>0.0</td>\n",
              "      <td>0.0</td>\n",
              "      <td>0.0</td>\n",
              "      <td>0.0</td>\n",
              "    </tr>\n",
              "    <tr>\n",
              "      <th>1</th>\n",
              "      <td>0.01</td>\n",
              "      <td>0.0</td>\n",
              "      <td>0.0</td>\n",
              "      <td>0.0</td>\n",
              "      <td>0.000015</td>\n",
              "      <td>0.0</td>\n",
              "      <td>0.001675</td>\n",
              "      <td>0.002517</td>\n",
              "      <td>0.0</td>\n",
              "      <td>0.0</td>\n",
              "      <td>0.002517</td>\n",
              "      <td>0.005025</td>\n",
              "      <td>0.0</td>\n",
              "      <td>0.999980</td>\n",
              "      <td>0.0</td>\n",
              "      <td>0.0</td>\n",
              "      <td>0.0</td>\n",
              "      <td>0.0</td>\n",
              "    </tr>\n",
              "    <tr>\n",
              "      <th>2</th>\n",
              "      <td>0.02</td>\n",
              "      <td>0.0</td>\n",
              "      <td>0.0</td>\n",
              "      <td>0.0</td>\n",
              "      <td>0.000059</td>\n",
              "      <td>0.0</td>\n",
              "      <td>0.003367</td>\n",
              "      <td>0.005067</td>\n",
              "      <td>0.0</td>\n",
              "      <td>0.0</td>\n",
              "      <td>0.005067</td>\n",
              "      <td>0.010099</td>\n",
              "      <td>0.0</td>\n",
              "      <td>0.999918</td>\n",
              "      <td>0.0</td>\n",
              "      <td>0.0</td>\n",
              "      <td>0.0</td>\n",
              "      <td>0.0</td>\n",
              "    </tr>\n",
              "    <tr>\n",
              "      <th>3</th>\n",
              "      <td>0.03</td>\n",
              "      <td>0.0</td>\n",
              "      <td>0.0</td>\n",
              "      <td>0.0</td>\n",
              "      <td>0.000133</td>\n",
              "      <td>0.0</td>\n",
              "      <td>0.005075</td>\n",
              "      <td>0.007650</td>\n",
              "      <td>0.0</td>\n",
              "      <td>0.0</td>\n",
              "      <td>0.007650</td>\n",
              "      <td>0.015221</td>\n",
              "      <td>0.0</td>\n",
              "      <td>0.999813</td>\n",
              "      <td>0.0</td>\n",
              "      <td>0.0</td>\n",
              "      <td>0.0</td>\n",
              "      <td>0.0</td>\n",
              "    </tr>\n",
              "    <tr>\n",
              "      <th>4</th>\n",
              "      <td>0.04</td>\n",
              "      <td>0.0</td>\n",
              "      <td>0.0</td>\n",
              "      <td>0.0</td>\n",
              "      <td>0.000239</td>\n",
              "      <td>0.0</td>\n",
              "      <td>0.006801</td>\n",
              "      <td>0.010266</td>\n",
              "      <td>0.0</td>\n",
              "      <td>0.0</td>\n",
              "      <td>0.010266</td>\n",
              "      <td>0.020389</td>\n",
              "      <td>0.0</td>\n",
              "      <td>0.999664</td>\n",
              "      <td>0.0</td>\n",
              "      <td>0.0</td>\n",
              "      <td>0.0</td>\n",
              "      <td>0.0</td>\n",
              "    </tr>\n",
              "  </tbody>\n",
              "</table>\n",
              "</div>"
            ],
            "text/plain": [
              "      g  0000  0001  0010      0011  ...      1100  1101  1110  1111  label\n",
              "0  0.00   0.0   0.0   0.0  0.000000  ...  1.000000   0.0   0.0   0.0    0.0\n",
              "1  0.01   0.0   0.0   0.0  0.000015  ...  0.999980   0.0   0.0   0.0    0.0\n",
              "2  0.02   0.0   0.0   0.0  0.000059  ...  0.999918   0.0   0.0   0.0    0.0\n",
              "3  0.03   0.0   0.0   0.0  0.000133  ...  0.999813   0.0   0.0   0.0    0.0\n",
              "4  0.04   0.0   0.0   0.0  0.000239  ...  0.999664   0.0   0.0   0.0    0.0\n",
              "\n",
              "[5 rows x 18 columns]"
            ]
          },
          "metadata": {
            "tags": []
          },
          "execution_count": 35
        }
      ]
    },
    {
      "cell_type": "code",
      "metadata": {
        "colab": {
          "base_uri": "https://localhost:8080/"
        },
        "id": "BZsPyVY3gwdJ",
        "outputId": "27dc42d0-e30c-4620-9e22-a1fa316358f2"
      },
      "source": [
        "datos = df.to_numpy()\n",
        "datos"
      ],
      "execution_count": null,
      "outputs": [
        {
          "output_type": "execute_result",
          "data": {
            "text/plain": [
              "array([[0.  , 0.  , 0.  , ..., 0.  , 0.  , 0.  ],\n",
              "       [0.01, 0.  , 0.  , ..., 0.  , 0.  , 0.  ],\n",
              "       [0.02, 0.  , 0.  , ..., 0.  , 0.  , 0.  ],\n",
              "       ...,\n",
              "       [4.98, 0.  , 0.  , ..., 0.  , 0.  , 1.  ],\n",
              "       [4.99, 0.  , 0.  , ..., 0.  , 0.  , 1.  ],\n",
              "       [5.  , 0.  , 0.  , ..., 0.  , 0.  , 1.  ]])"
            ]
          },
          "metadata": {
            "tags": []
          },
          "execution_count": 5
        }
      ]
    },
    {
      "cell_type": "markdown",
      "metadata": {
        "id": "P_gugzm9E5AD"
      },
      "source": [
        "## Initializing Qiskit\n",
        "\n",
        "El comando clave es initialize(). Uno le dá un vector, y el programa entiende las operaciones para generarlo. La teoría detrás de eso está explicada en [este tutorial](https://github.com/Qiskit/qiskit-tutorials/blob/master/tutorials/circuits/3_summary_of_quantum_operations.ipynb). \n",
        "Los estados de input viven en dimensión $2^n$, lo que facilita escribir estados generales entrelazados. "
      ]
    },
    {
      "cell_type": "code",
      "metadata": {
        "id": "20e0fPCvgz8I",
        "colab": {
          "base_uri": "https://localhost:8080/",
          "height": 347
        },
        "outputId": "985b12fa-2b93-471a-9ce3-54fa9a6cbeda"
      },
      "source": [
        "# I remove labels and couplings\n",
        "estado = datos[:,1:-1]\n",
        "\n",
        "# Number of state\n",
        "i = 25\n",
        "\n",
        "# I convert it into a list for inputing qiskit\n",
        "state=estado[i,:].tolist()\n",
        "label = int(datos[i,-1])\n",
        "\n",
        "# Desired vector lives in te 2^n space\n",
        "desired_vector = state\n",
        "\n",
        "q = QuantumRegister(4)\n",
        "c = ClassicalRegister(1)\n",
        "\n",
        "qc = QuantumCircuit(q,c)\n",
        "\n",
        "qc.initialize(desired_vector, [q[0],q[1],q[2],q[3]])\n",
        "qc.draw()\n",
        "# Aparece en 2 lineas porque no entra"
      ],
      "execution_count": null,
      "outputs": [
        {
          "output_type": "execute_result",
          "data": {
            "text/html": [
              "<pre style=\"word-wrap: normal;white-space: pre;background: #fff0;line-height: 1.1;font-family: &quot;Courier New&quot;,Courier,monospace\">       »\n",
              "q42_0: »\n",
              "       »\n",
              "q42_1: »\n",
              "       »\n",
              "q42_2: »\n",
              "       »\n",
              "q42_3: »\n",
              "       »\n",
              " c6: 1/»\n",
              "       »\n",
              "«       ┌────────────────────────────────────────────────────────────────────────────────────┐\n",
              "«q42_0: ┤0                                                                                   ├\n",
              "«       │                                                                                    │\n",
              "«q42_1: ┤1                                                                                   ├\n",
              "«       │  initialize(0,0,0,0.010133,0,0.04679,0.072109,0,0,0.072109,0.13663,0,0.9842,0,0,0) │\n",
              "«q42_2: ┤2                                                                                   ├\n",
              "«       │                                                                                    │\n",
              "«q42_3: ┤3                                                                                   ├\n",
              "«       └────────────────────────────────────────────────────────────────────────────────────┘\n",
              "« c6: 1/══════════════════════════════════════════════════════════════════════════════════════\n",
              "«                                                                                             </pre>"
            ],
            "text/plain": [
              "       »\n",
              "q42_0: »\n",
              "       »\n",
              "q42_1: »\n",
              "       »\n",
              "q42_2: »\n",
              "       »\n",
              "q42_3: »\n",
              "       »\n",
              " c6: 1/»\n",
              "       »\n",
              "«       ┌────────────────────────────────────────────────────────────────────────────────────┐\n",
              "«q42_0: ┤0                                                                                   ├\n",
              "«       │                                                                                    │\n",
              "«q42_1: ┤1                                                                                   ├\n",
              "«       │  initialize(0,0,0,0.010133,0,0.04679,0.072109,0,0,0.072109,0.13663,0,0.9842,0,0,0) │\n",
              "«q42_2: ┤2                                                                                   ├\n",
              "«       │                                                                                    │\n",
              "«q42_3: ┤3                                                                                   ├\n",
              "«       └────────────────────────────────────────────────────────────────────────────────────┘\n",
              "« c6: 1/══════════════════════════════════════════════════════════════════════════════════════\n",
              "«                                                                                             "
            ]
          },
          "metadata": {
            "tags": []
          },
          "execution_count": 20
        }
      ]
    },
    {
      "cell_type": "code",
      "metadata": {
        "colab": {
          "base_uri": "https://localhost:8080/"
        },
        "id": "wXZ2yF3Cap_x",
        "outputId": "9e51b908-b7af-468a-982b-14cb667db5f9"
      },
      "source": [
        "backend = Aer.get_backend('statevector_simulator')\n",
        "job = execute(qc, backend)\n",
        "qc_state = job.result().get_statevector(qc)\n",
        "# The resulting state is written in the 2^n basis\n",
        "qc_state"
      ],
      "execution_count": null,
      "outputs": [
        {
          "output_type": "execute_result",
          "data": {
            "text/plain": [
              "array([0.        +0.j, 0.        +0.j, 0.        +0.j, 0.01013337+0.j,\n",
              "       0.        +0.j, 0.04679042+0.j, 0.07210914+0.j, 0.        +0.j,\n",
              "       0.        +0.j, 0.07210914+0.j, 0.13663267+0.j, 0.        +0.j,\n",
              "       0.98419512+0.j, 0.        +0.j, 0.        +0.j, 0.        +0.j])"
            ]
          },
          "metadata": {
            "tags": []
          },
          "execution_count": 13
        }
      ]
    },
    {
      "cell_type": "code",
      "metadata": {
        "id": "oDVDnc1MawG3"
      },
      "source": [
        "# qc.measure(q[0], c[0])\n",
        "# job = execute(qc, backend, shots=100)\n",
        "# result = job.result()\n",
        "# result.get_counts(qc)"
      ],
      "execution_count": null,
      "outputs": []
    },
    {
      "cell_type": "markdown",
      "metadata": {
        "id": "2PvoFXmRCl7q"
      },
      "source": [
        "## Train-test splitting for Machine Learning"
      ]
    },
    {
      "cell_type": "code",
      "metadata": {
        "id": "_Zo2XDwYA14r"
      },
      "source": [
        "from sklearn.model_selection import train_test_split\n",
        "\n",
        "# I remove  couplings\n",
        "estados = datos[:,1:]\n",
        "train, test = train_test_split(estados, test_size=0.2, random_state=0)\n",
        "\n"
      ],
      "execution_count": null,
      "outputs": []
    },
    {
      "cell_type": "code",
      "metadata": {
        "colab": {
          "base_uri": "https://localhost:8080/"
        },
        "id": "8BohgAvpBrI6",
        "outputId": "c0b15353-6394-40ba-eedd-6a3001d9bf2e"
      },
      "source": [
        "train[1,:]"
      ],
      "execution_count": null,
      "outputs": [
        {
          "output_type": "execute_result",
          "data": {
            "text/plain": [
              "array([0.        , 0.        , 0.        , 0.07529731, 0.        ,\n",
              "       0.14444913, 0.21527301, 0.        , 0.        , 0.21527301,\n",
              "       0.35389142, 0.        , 0.86921844, 0.        , 0.        ,\n",
              "       0.        , 1.        ])"
            ]
          },
          "metadata": {
            "tags": []
          },
          "execution_count": 25
        }
      ]
    }
  ]
}