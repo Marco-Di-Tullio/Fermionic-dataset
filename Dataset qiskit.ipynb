{
  "nbformat": 4,
  "nbformat_minor": 0,
  "metadata": {
    "colab": {
      "name": "Fermionic dataset qiskit.ipynb",
      "provenance": [],
      "collapsed_sections": [
        "oAR1ASQUG2Jf",
        "P_gugzm9E5AD",
        "2PvoFXmRCl7q"
      ],
      "toc_visible": true
    },
    "kernelspec": {
      "name": "python3",
      "display_name": "Python 3"
    },
    "language_info": {
      "name": "python"
    }
  },
  "cells": [
    {
      "cell_type": "code",
      "metadata": {
        "id": "T28GBN3-hYQt"
      },
      "source": [
        "%%capture\n",
        "import numpy as np\n",
        "!pip install qiskit\n",
        "from qiskit import QuantumCircuit, ClassicalRegister, QuantumRegister, assemble\n",
        "from qiskit import execute\n",
        "from qiskit import BasicAer as Aer\n",
        "from qiskit.tools.visualization import circuit_drawer, plot_histogram"
      ],
      "execution_count": null,
      "outputs": []
    },
    {
      "cell_type": "markdown",
      "metadata": {
        "id": "kysMNpDAAo5L"
      },
      "source": [
        "## Hamiltonian and mapping\n",
        "\n",
        "The following fermionic model describes the transition to a superconducting phase. We will consider a single particle space $\\mathcal{H}$ with $2\\Omega$ modes composed by $\\Omega$ orthogonal single particle states $k$ and the corresponding $\\Omega$ time-reversed states $\\bar{k}$ described by the following Hamiltonian:\n",
        "\n",
        "$H = \\sum_k \\varepsilon_k (c_k^\\dagger c_k + c_{\\bar{k}}^\\dagger c_{\\bar{k}}) - \\sum_{kk'} G_{k k'}c_{k'}^\\dagger c_{\\bar{k'}}^\\dagger c_{\\bar{k}} c_k$\n",
        "\n",
        "\n",
        "with $\\varepsilon_k$ the energy of the level $k$ and $\\bar{k}$. We will consider the half filled case, i.e. a fixed number of fermions $N=\\Omega$. We will look at the case of equally spaced spectrum $\\varepsilon_{k+1}-\\varepsilon_k = \\varepsilon\\;\\; \\forall k $ and $G_{kk'} = G\\geq 0 \\;\\; \\forall k, k'$\n",
        "\n",
        "The exact ground state will then be a linear combination of Slater Determinants with fixed fermion number N and fully occupied or empty pairs $(k,\\bar{k})$\n",
        "\n",
        "$|\\psi\\rangle = \\sum_\\nu \\alpha_\\nu [\\prod_k (c_k^\\dagger c_{\\bar{k}}^\\dagger)^{n_k^\\nu}]|0\\rangle$\n",
        "\n",
        "where n_k^\\nu = 0,1 indicates the occupation of pair $(k,\\bar{k})$ $(\\sum_k n_k^\\nu = N/2)$ and $\\nu = 1,\\ldots,\\binom{\\Omega}{N/2}$ runs over these Slater Determinants $(\\sum_\\nu |\\alpha_{\\nu}|^2 = 1)$. The fundamental state of this Hamiltonian is already diagonal in the natural basis, which introduces some sort of \"privileged basis\". \n",
        "\n",
        "\n",
        "The fact that the fundamental state has no broken pairs (that is, modes $k$ and $\\bar{k}$ are simultaniously occupied), allows us to map the ocupation of the different levels to spin projections (instead of modes to spines, which would require twice as many qubits). In order to understan the mapping, we could think of the simplest case of 2 energy levels (4 total modes). In that case, we would consider the ocupation basis $\\{00,01,10,11\\}$, which would map to $\\{\\downarrow \\downarrow ,\\downarrow \\uparrow,\\uparrow\\downarrow ,\\uparrow\\uparrow\\}$ in a 2 qubit system. Frthermore, in our case, we have fixed particle number, equal to half the available modes. Hence, only modes $\\{01,10\\}$ would show up. \n",
        "\n",
        "A great deal of fermionicity would normally be lost by fixing the basis, but with this specific selection that is not the case, as we are working on the basis which diagonalizis both the Hamiltonian and the one body matrix. "
      ]
    },
    {
      "cell_type": "markdown",
      "metadata": {
        "id": "oAR1ASQUG2Jf"
      },
      "source": [
        "## Dataset\n",
        "Let's download the dataset\n"
      ]
    },
    {
      "cell_type": "code",
      "metadata": {
        "id": "8mr_7Fm4KGvZ"
      },
      "source": [
        "# This is for the Omega = 4 case (4 fermiones y 4 two-fold degenerate levels)\n",
        "import requests\n",
        "url = 'https://raw.githubusercontent.com/Marco-Di-Tullio/Fermionic-dataset/main/fermionic_dataset_4.csv'\n",
        "r = requests.get(url, allow_redirects=True)\n",
        "open('fermionic_dataset_4.csv', 'wb').write(r.content);\n"
      ],
      "execution_count": null,
      "outputs": []
    },
    {
      "cell_type": "markdown",
      "metadata": {
        "id": "CGmCPJVZKd5H"
      },
      "source": [
        "This is how it looks:"
      ]
    },
    {
      "cell_type": "code",
      "metadata": {
        "colab": {
          "base_uri": "https://localhost:8080/",
          "height": 224
        },
        "id": "zSYk85sqKMSF",
        "outputId": "0efc70a9-bc1a-4a4e-c396-e40d35ea912c"
      },
      "source": [
        "import pandas as pd\n",
        "df = pd.read_csv('fermionic_dataset_4.csv')\n",
        "df.head()"
      ],
      "execution_count": null,
      "outputs": [
        {
          "output_type": "execute_result",
          "data": {
            "text/html": [
              "<div>\n",
              "<style scoped>\n",
              "    .dataframe tbody tr th:only-of-type {\n",
              "        vertical-align: middle;\n",
              "    }\n",
              "\n",
              "    .dataframe tbody tr th {\n",
              "        vertical-align: top;\n",
              "    }\n",
              "\n",
              "    .dataframe thead th {\n",
              "        text-align: right;\n",
              "    }\n",
              "</style>\n",
              "<table border=\"1\" class=\"dataframe\">\n",
              "  <thead>\n",
              "    <tr style=\"text-align: right;\">\n",
              "      <th></th>\n",
              "      <th>g</th>\n",
              "      <th>0000</th>\n",
              "      <th>0001</th>\n",
              "      <th>0010</th>\n",
              "      <th>0011</th>\n",
              "      <th>0100</th>\n",
              "      <th>0101</th>\n",
              "      <th>0110</th>\n",
              "      <th>0111</th>\n",
              "      <th>1000</th>\n",
              "      <th>1001</th>\n",
              "      <th>1010</th>\n",
              "      <th>1011</th>\n",
              "      <th>1100</th>\n",
              "      <th>1101</th>\n",
              "      <th>1110</th>\n",
              "      <th>1111</th>\n",
              "      <th>label</th>\n",
              "    </tr>\n",
              "  </thead>\n",
              "  <tbody>\n",
              "    <tr>\n",
              "      <th>0</th>\n",
              "      <td>0.00</td>\n",
              "      <td>0.0</td>\n",
              "      <td>0.0</td>\n",
              "      <td>0.0</td>\n",
              "      <td>0.000000</td>\n",
              "      <td>0.0</td>\n",
              "      <td>0.000000</td>\n",
              "      <td>0.000000</td>\n",
              "      <td>0.0</td>\n",
              "      <td>0.0</td>\n",
              "      <td>0.000000</td>\n",
              "      <td>0.000000</td>\n",
              "      <td>0.0</td>\n",
              "      <td>1.000000</td>\n",
              "      <td>0.0</td>\n",
              "      <td>0.0</td>\n",
              "      <td>0.0</td>\n",
              "      <td>0.0</td>\n",
              "    </tr>\n",
              "    <tr>\n",
              "      <th>1</th>\n",
              "      <td>0.01</td>\n",
              "      <td>0.0</td>\n",
              "      <td>0.0</td>\n",
              "      <td>0.0</td>\n",
              "      <td>0.000015</td>\n",
              "      <td>0.0</td>\n",
              "      <td>0.001675</td>\n",
              "      <td>0.002517</td>\n",
              "      <td>0.0</td>\n",
              "      <td>0.0</td>\n",
              "      <td>0.002517</td>\n",
              "      <td>0.005025</td>\n",
              "      <td>0.0</td>\n",
              "      <td>0.999980</td>\n",
              "      <td>0.0</td>\n",
              "      <td>0.0</td>\n",
              "      <td>0.0</td>\n",
              "      <td>0.0</td>\n",
              "    </tr>\n",
              "    <tr>\n",
              "      <th>2</th>\n",
              "      <td>0.02</td>\n",
              "      <td>0.0</td>\n",
              "      <td>0.0</td>\n",
              "      <td>0.0</td>\n",
              "      <td>0.000059</td>\n",
              "      <td>0.0</td>\n",
              "      <td>0.003367</td>\n",
              "      <td>0.005067</td>\n",
              "      <td>0.0</td>\n",
              "      <td>0.0</td>\n",
              "      <td>0.005067</td>\n",
              "      <td>0.010099</td>\n",
              "      <td>0.0</td>\n",
              "      <td>0.999918</td>\n",
              "      <td>0.0</td>\n",
              "      <td>0.0</td>\n",
              "      <td>0.0</td>\n",
              "      <td>0.0</td>\n",
              "    </tr>\n",
              "    <tr>\n",
              "      <th>3</th>\n",
              "      <td>0.03</td>\n",
              "      <td>0.0</td>\n",
              "      <td>0.0</td>\n",
              "      <td>0.0</td>\n",
              "      <td>0.000133</td>\n",
              "      <td>0.0</td>\n",
              "      <td>0.005075</td>\n",
              "      <td>0.007650</td>\n",
              "      <td>0.0</td>\n",
              "      <td>0.0</td>\n",
              "      <td>0.007650</td>\n",
              "      <td>0.015221</td>\n",
              "      <td>0.0</td>\n",
              "      <td>0.999813</td>\n",
              "      <td>0.0</td>\n",
              "      <td>0.0</td>\n",
              "      <td>0.0</td>\n",
              "      <td>0.0</td>\n",
              "    </tr>\n",
              "    <tr>\n",
              "      <th>4</th>\n",
              "      <td>0.04</td>\n",
              "      <td>0.0</td>\n",
              "      <td>0.0</td>\n",
              "      <td>0.0</td>\n",
              "      <td>0.000239</td>\n",
              "      <td>0.0</td>\n",
              "      <td>0.006801</td>\n",
              "      <td>0.010266</td>\n",
              "      <td>0.0</td>\n",
              "      <td>0.0</td>\n",
              "      <td>0.010266</td>\n",
              "      <td>0.020389</td>\n",
              "      <td>0.0</td>\n",
              "      <td>0.999664</td>\n",
              "      <td>0.0</td>\n",
              "      <td>0.0</td>\n",
              "      <td>0.0</td>\n",
              "      <td>0.0</td>\n",
              "    </tr>\n",
              "  </tbody>\n",
              "</table>\n",
              "</div>"
            ],
            "text/plain": [
              "      g  0000  0001  0010      0011  ...      1100  1101  1110  1111  label\n",
              "0  0.00   0.0   0.0   0.0  0.000000  ...  1.000000   0.0   0.0   0.0    0.0\n",
              "1  0.01   0.0   0.0   0.0  0.000015  ...  0.999980   0.0   0.0   0.0    0.0\n",
              "2  0.02   0.0   0.0   0.0  0.000059  ...  0.999918   0.0   0.0   0.0    0.0\n",
              "3  0.03   0.0   0.0   0.0  0.000133  ...  0.999813   0.0   0.0   0.0    0.0\n",
              "4  0.04   0.0   0.0   0.0  0.000239  ...  0.999664   0.0   0.0   0.0    0.0\n",
              "\n",
              "[5 rows x 18 columns]"
            ]
          },
          "metadata": {
            "tags": []
          },
          "execution_count": 4
        }
      ]
    },
    {
      "cell_type": "code",
      "metadata": {
        "colab": {
          "base_uri": "https://localhost:8080/"
        },
        "id": "BZsPyVY3gwdJ",
        "outputId": "7843f601-3966-489b-c569-b6f451a566c3"
      },
      "source": [
        "datos = df.to_numpy()\n",
        "datos"
      ],
      "execution_count": null,
      "outputs": [
        {
          "output_type": "execute_result",
          "data": {
            "text/plain": [
              "array([[0.  , 0.  , 0.  , ..., 0.  , 0.  , 0.  ],\n",
              "       [0.01, 0.  , 0.  , ..., 0.  , 0.  , 0.  ],\n",
              "       [0.02, 0.  , 0.  , ..., 0.  , 0.  , 0.  ],\n",
              "       ...,\n",
              "       [4.98, 0.  , 0.  , ..., 0.  , 0.  , 1.  ],\n",
              "       [4.99, 0.  , 0.  , ..., 0.  , 0.  , 1.  ],\n",
              "       [5.  , 0.  , 0.  , ..., 0.  , 0.  , 1.  ]])"
            ]
          },
          "metadata": {
            "tags": []
          },
          "execution_count": 5
        }
      ]
    },
    {
      "cell_type": "markdown",
      "metadata": {
        "id": "P_gugzm9E5AD"
      },
      "source": [
        "## Initializing Qiskit\n",
        "\n",
        "We are using the initialize() command. The input is a vector in the $2^n$ basis, and the programs deduced the necesary operations for generating it. The underlying theory can be found  [in this tutorial](https://github.com/Qiskit/qiskit-tutorials/blob/master/tutorials/circuits/3_summary_of_quantum_operations.ipynb). \n"
      ]
    },
    {
      "cell_type": "code",
      "metadata": {
        "id": "20e0fPCvgz8I",
        "colab": {
          "base_uri": "https://localhost:8080/",
          "height": 347
        },
        "outputId": "541e613b-0f35-4111-e065-07a69c8c5084"
      },
      "source": [
        "# I remove labels and couplings\n",
        "estado = datos[:,1:-1]\n",
        "\n",
        "# Number of state\n",
        "i = 25\n",
        "\n",
        "# I convert it into a list for inputing qiskit\n",
        "state = estado[i,:].tolist()\n",
        "label = int(datos[i,-1])\n",
        "\n",
        "# Desired vector lives in te 2^n space\n",
        "desired_vector = state\n",
        "\n",
        "q = QuantumRegister(4)\n",
        "c = ClassicalRegister(1)\n",
        "\n",
        "qc = QuantumCircuit(q,c)\n",
        "\n",
        "qc.initialize(desired_vector, [q[0],q[1],q[2],q[3]])\n",
        "qc.draw()\n",
        "# It shows up in 2 lines because of string length"
      ],
      "execution_count": null,
      "outputs": [
        {
          "output_type": "execute_result",
          "data": {
            "text/html": [
              "<pre style=\"word-wrap: normal;white-space: pre;background: #fff0;line-height: 1.1;font-family: &quot;Courier New&quot;,Courier,monospace\">      »\n",
              "q0_0: »\n",
              "      »\n",
              "q0_1: »\n",
              "      »\n",
              "q0_2: »\n",
              "      »\n",
              "q0_3: »\n",
              "      »\n",
              "c0: 1/»\n",
              "      »\n",
              "«      ┌────────────────────────────────────────────────────────────────────────────────────┐\n",
              "«q0_0: ┤0                                                                                   ├\n",
              "«      │                                                                                    │\n",
              "«q0_1: ┤1                                                                                   ├\n",
              "«      │  initialize(0,0,0,0.010133,0,0.04679,0.072109,0,0,0.072109,0.13663,0,0.9842,0,0,0) │\n",
              "«q0_2: ┤2                                                                                   ├\n",
              "«      │                                                                                    │\n",
              "«q0_3: ┤3                                                                                   ├\n",
              "«      └────────────────────────────────────────────────────────────────────────────────────┘\n",
              "«c0: 1/══════════════════════════════════════════════════════════════════════════════════════\n",
              "«                                                                                            </pre>"
            ],
            "text/plain": [
              "      »\n",
              "q0_0: »\n",
              "      »\n",
              "q0_1: »\n",
              "      »\n",
              "q0_2: »\n",
              "      »\n",
              "q0_3: »\n",
              "      »\n",
              "c0: 1/»\n",
              "      »\n",
              "«      ┌────────────────────────────────────────────────────────────────────────────────────┐\n",
              "«q0_0: ┤0                                                                                   ├\n",
              "«      │                                                                                    │\n",
              "«q0_1: ┤1                                                                                   ├\n",
              "«      │  initialize(0,0,0,0.010133,0,0.04679,0.072109,0,0,0.072109,0.13663,0,0.9842,0,0,0) │\n",
              "«q0_2: ┤2                                                                                   ├\n",
              "«      │                                                                                    │\n",
              "«q0_3: ┤3                                                                                   ├\n",
              "«      └────────────────────────────────────────────────────────────────────────────────────┘\n",
              "«c0: 1/══════════════════════════════════════════════════════════════════════════════════════\n",
              "«                                                                                            "
            ]
          },
          "metadata": {
            "tags": []
          },
          "execution_count": 8
        }
      ]
    },
    {
      "cell_type": "code",
      "metadata": {
        "colab": {
          "base_uri": "https://localhost:8080/"
        },
        "id": "wXZ2yF3Cap_x",
        "outputId": "63d8fda9-a451-44e3-ad67-6b3847e2e571"
      },
      "source": [
        "backend = Aer.get_backend('statevector_simulator')\n",
        "job = execute(qc, backend)\n",
        "qc_state = job.result().get_statevector(qc)\n",
        "# The resulting state is written in the 2^n basis\n",
        "qc_state"
      ],
      "execution_count": null,
      "outputs": [
        {
          "output_type": "execute_result",
          "data": {
            "text/plain": [
              "array([0.        +0.j, 0.        +0.j, 0.        +0.j, 0.01013337+0.j,\n",
              "       0.        +0.j, 0.04679042+0.j, 0.07210914+0.j, 0.        +0.j,\n",
              "       0.        +0.j, 0.07210914+0.j, 0.13663267+0.j, 0.        +0.j,\n",
              "       0.98419512+0.j, 0.        +0.j, 0.        +0.j, 0.        +0.j])"
            ]
          },
          "metadata": {
            "tags": []
          },
          "execution_count": 9
        }
      ]
    },
    {
      "cell_type": "code",
      "metadata": {
        "id": "oDVDnc1MawG3"
      },
      "source": [
        "# qc.measure(q[0], c[0])\n",
        "# job = execute(qc, backend, shots=100)\n",
        "# result = job.result()\n",
        "# result.get_counts(qc)"
      ],
      "execution_count": null,
      "outputs": []
    },
    {
      "cell_type": "markdown",
      "metadata": {
        "id": "2PvoFXmRCl7q"
      },
      "source": [
        "## Train-test splitting for Machine Learning"
      ]
    },
    {
      "cell_type": "code",
      "metadata": {
        "id": "_Zo2XDwYA14r"
      },
      "source": [
        "from sklearn.model_selection import train_test_split\n",
        "\n",
        "# We remove  couplings\n",
        "estados = datos[:,1:]\n",
        "\n",
        "# We split and shuffle\n",
        "train, test = train_test_split(estados, test_size=0.2, random_state=0)"
      ],
      "execution_count": null,
      "outputs": []
    },
    {
      "cell_type": "code",
      "metadata": {
        "colab": {
          "base_uri": "https://localhost:8080/"
        },
        "id": "8BohgAvpBrI6",
        "outputId": "3fa09545-8c17-423c-baa2-5540dca2c926"
      },
      "source": [
        "train[1,:]"
      ],
      "execution_count": null,
      "outputs": [
        {
          "output_type": "execute_result",
          "data": {
            "text/plain": [
              "array([0.        , 0.        , 0.        , 0.07529731, 0.        ,\n",
              "       0.14444913, 0.21527301, 0.        , 0.        , 0.21527301,\n",
              "       0.35389142, 0.        , 0.86921844, 0.        , 0.        ,\n",
              "       0.        , 1.        ])"
            ]
          },
          "metadata": {
            "tags": []
          },
          "execution_count": 7
        }
      ]
    }
  ]
}